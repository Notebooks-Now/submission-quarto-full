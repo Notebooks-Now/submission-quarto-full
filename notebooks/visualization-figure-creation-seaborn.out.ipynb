{
 "cells": [
  {
   "cell_type": "markdown",
   "metadata": {},
   "source": [
    "# Visualization & Figure Creation\n",
    "\n",
    "Steve Purves [![](data:image/png;base64,iVBORw0KGgoAAAANSUhEUgAAABAAAAAQCAYAAAAf8/9hAAAAGXRFWHRTb2Z0d2FyZQBBZG9iZSBJbWFnZVJlYWR5ccllPAAAA2ZpVFh0WE1MOmNvbS5hZG9iZS54bXAAAAAAADw/eHBhY2tldCBiZWdpbj0i77u/IiBpZD0iVzVNME1wQ2VoaUh6cmVTek5UY3prYzlkIj8+IDx4OnhtcG1ldGEgeG1sbnM6eD0iYWRvYmU6bnM6bWV0YS8iIHg6eG1wdGs9IkFkb2JlIFhNUCBDb3JlIDUuMC1jMDYwIDYxLjEzNDc3NywgMjAxMC8wMi8xMi0xNzozMjowMCAgICAgICAgIj4gPHJkZjpSREYgeG1sbnM6cmRmPSJodHRwOi8vd3d3LnczLm9yZy8xOTk5LzAyLzIyLXJkZi1zeW50YXgtbnMjIj4gPHJkZjpEZXNjcmlwdGlvbiByZGY6YWJvdXQ9IiIgeG1sbnM6eG1wTU09Imh0dHA6Ly9ucy5hZG9iZS5jb20veGFwLzEuMC9tbS8iIHhtbG5zOnN0UmVmPSJodHRwOi8vbnMuYWRvYmUuY29tL3hhcC8xLjAvc1R5cGUvUmVzb3VyY2VSZWYjIiB4bWxuczp4bXA9Imh0dHA6Ly9ucy5hZG9iZS5jb20veGFwLzEuMC8iIHhtcE1NOk9yaWdpbmFsRG9jdW1lbnRJRD0ieG1wLmRpZDo1N0NEMjA4MDI1MjA2ODExOTk0QzkzNTEzRjZEQTg1NyIgeG1wTU06RG9jdW1lbnRJRD0ieG1wLmRpZDozM0NDOEJGNEZGNTcxMUUxODdBOEVCODg2RjdCQ0QwOSIgeG1wTU06SW5zdGFuY2VJRD0ieG1wLmlpZDozM0NDOEJGM0ZGNTcxMUUxODdBOEVCODg2RjdCQ0QwOSIgeG1wOkNyZWF0b3JUb29sPSJBZG9iZSBQaG90b3Nob3AgQ1M1IE1hY2ludG9zaCI+IDx4bXBNTTpEZXJpdmVkRnJvbSBzdFJlZjppbnN0YW5jZUlEPSJ4bXAuaWlkOkZDN0YxMTc0MDcyMDY4MTE5NUZFRDc5MUM2MUUwNEREIiBzdFJlZjpkb2N1bWVudElEPSJ4bXAuZGlkOjU3Q0QyMDgwMjUyMDY4MTE5OTRDOTM1MTNGNkRBODU3Ii8+IDwvcmRmOkRlc2NyaXB0aW9uPiA8L3JkZjpSREY+IDwveDp4bXBtZXRhPiA8P3hwYWNrZXQgZW5kPSJyIj8+84NovQAAAR1JREFUeNpiZEADy85ZJgCpeCB2QJM6AMQLo4yOL0AWZETSqACk1gOxAQN+cAGIA4EGPQBxmJA0nwdpjjQ8xqArmczw5tMHXAaALDgP1QMxAGqzAAPxQACqh4ER6uf5MBlkm0X4EGayMfMw/Pr7Bd2gRBZogMFBrv01hisv5jLsv9nLAPIOMnjy8RDDyYctyAbFM2EJbRQw+aAWw/LzVgx7b+cwCHKqMhjJFCBLOzAR6+lXX84xnHjYyqAo5IUizkRCwIENQQckGSDGY4TVgAPEaraQr2a4/24bSuoExcJCfAEJihXkWDj3ZAKy9EJGaEo8T0QSxkjSwORsCAuDQCD+QILmD1A9kECEZgxDaEZhICIzGcIyEyOl2RkgwAAhkmC+eAm0TAAAAABJRU5ErkJggg==)](https://orcid.org/0000-0002-0760-5497)"
   ],
   "id": "c914db7f-7f66-40d2-a526-ed4fc5026791"
  },
  {
   "cell_type": "markdown",
   "metadata": {},
   "source": [
    "## Main Timeline Figure"
   ],
   "id": "8f3f2a59"
  },
  {
   "cell_type": "code",
   "execution_count": 1,
   "metadata": {},
   "outputs": [],
   "source": [
    "%matplotlib inline\n",
    "import pandas as pd\n",
    "import matplotlib\n",
    "import matplotlib.pyplot as plt\n",
    "import seaborn as sns\n",
    "import numpy as np\n",
    "sns.set_theme(style=\"whitegrid\")"
   ],
   "id": "12f72d64"
  },
  {
   "cell_type": "code",
   "execution_count": 2,
   "metadata": {},
   "outputs": [],
   "source": [
    "def make_category_columns(df):\n",
    "    df['Depth'] = 'Shallow (<18km)'\n",
    "    df.loc[(df['Depth(km)'] >= 18) & (df['Depth(km)'] <= 28), 'Depth'] = 'Interchange (18km>x>28km)'\n",
    "    df.loc[df['Depth(km)'] >= 28, 'Depth'] = 'Deep (>28km)'\n",
    "    \n",
    "    df['Mag'] = 0\n",
    "    df.loc[(df['Magnitude'] >= 1) & (df['Magnitude'] <= 2), 'Mag'] = 1\n",
    "    df.loc[(df['Magnitude'] >= 2) & (df['Magnitude'] <= 3), 'Mag'] = 2\n",
    "    df.loc[(df['Magnitude'] >= 3) & (df['Magnitude'] <= 4), 'Mag'] = 3\n",
    "    df.loc[(df['Magnitude'] >= 4) & (df['Magnitude'] <= 5), 'Mag'] = 4    \n",
    "    \n",
    "    return df"
   ],
   "id": "291dc1cc"
  },
  {
   "cell_type": "markdown",
   "metadata": {},
   "source": [
    "## Visualising Long term earthquake data\n",
    "\n",
    "Data taken directly from the IGN Catalog and processed using the [data screening notebook](data-screening.ipynb)."
   ],
   "id": "cb96f187"
  },
  {
   "cell_type": "code",
   "execution_count": 3,
   "metadata": {},
   "outputs": [
    {
     "output_type": "display_data",
     "metadata": {},
     "data": {
      "text/html": [
       "\n",
       "</div>"
      ]
     }
    }
   ],
   "source": [
    "df_ign = pd.read_csv('../data/lapalma_ign.csv')\n",
    "df_ign = make_category_columns(df_ign)\n",
    "df_ign.head()"
   ],
   "id": "f48a68e0"
  },
  {
   "cell_type": "code",
   "execution_count": 4,
   "metadata": {},
   "outputs": [
    {
     "output_type": "display_data",
     "metadata": {},
     "data": {
      "text/plain": [
       "0       2017-03-09 23:44:06\n",
       "1       2017-03-10 00:16:10\n",
       "2       2017-03-10 00:16:11\n",
       "3       2017-03-10 03:20:26\n",
       "4       2017-08-21 02:06:55\n",
       "                ...        \n",
       "11342   2022-09-14 00:20:51\n",
       "11343   2022-09-14 01:40:30\n",
       "11344   2022-09-14 01:44:52\n",
       "11345   2022-09-14 02:03:08\n",
       "11346   2022-09-14 03:58:59\n",
       "Name: DateTime, Length: 11347, dtype: datetime64[ns]"
      ]
     }
    }
   ],
   "source": [
    "df_ign['DateTime'] = pd.to_datetime(df_ign['Date'] + ' ' + df_ign['Time'])\n",
    "df_ign['DateTime']"
   ],
   "id": "59c54f01"
  },
  {
   "cell_type": "code",
   "execution_count": 5,
   "metadata": {},
   "outputs": [],
   "source": [
    "df_ign_early = df_ign[df_ign['DateTime'] < '2021-09-11']\n",
    "df_ign_pre = df_ign[(df_ign['DateTime'] >= '2021-09-11')&(df_ign['DateTime'] < '2021-09-19 14:13:00')]\n",
    "df_ign_phase1 = df_ign[(df_ign['DateTime'] >= '2021-09-19 14:13:00')&(df_ign['DateTime'] < '2021-10-01')]\n",
    "df_ign_phase2 = df_ign[(df_ign['DateTime'] >= '2021-10-01')&(df_ign['DateTime'] < '2021-12-01')]\n",
    "df_ign_phase3 = df_ign[(df_ign['DateTime'] >= '2021-12-01')&(df_ign['DateTime'] <= '2021-12-31')]\n",
    "\n",
    "df_erupt = df_ign[(df_ign['Date'] < '2022-01-01') & (df_ign['Date'] > '2021-09-11')]\n",
    "\n",
    "df_erupt_1 = df_erupt[df_erupt['Magnitude'] < 1.0]\n",
    "df_erupt_2 = df_erupt[(df_erupt['Magnitude'] >= 1.0)&(df_erupt['Magnitude'] < 2.0)]\n",
    "df_erupt_3 = df_erupt[(df_erupt['Magnitude'] >= 2.0)&(df_erupt['Magnitude'] < 3.0)]\n",
    "df_erupt_4 = df_erupt[(df_erupt['Magnitude'] >= 3.0)&(df_erupt['Magnitude'] < 4.0)]\n",
    "df_erupt_5 = df_erupt[df_erupt['Magnitude'] > 4.0]"
   ],
   "id": "f7731cea"
  },
  {
   "cell_type": "code",
   "execution_count": 6,
   "metadata": {},
   "outputs": [
    {
     "output_type": "display_data",
     "metadata": {},
     "data": {}
    }
   ],
   "source": [
    "from matplotlib.patches import Rectangle\n",
    "\n",
    "import datetime as dt\n",
    "from matplotlib.dates import date2num, num2date\n",
    "\n",
    "matplotlib.rcParams['font.sans-serif'] = \"Helvetica\"\n",
    "matplotlib.rcParams['font.family'] = \"sans-serif\"\n",
    "matplotlib.rcParams['xtick.labelsize'] = 14\n",
    "matplotlib.rcParams['ytick.labelsize'] = 14\n",
    "matplotlib.rcParams['ytick.labelleft'] = True\n",
    "matplotlib.rcParams['ytick.labelright'] = True\n",
    "\n",
    "fig = matplotlib.pyplot.figure(figsize=(24,12), dpi=300)\n",
    "fig.tight_layout()\n",
    "# Creating axis\n",
    "# add_axes([xmin,ymin,dx,dy])\n",
    "ax_min = fig.add_axes([0.01, 0.01, 0.01, 0.01])\n",
    "ax_min.axis('off')\n",
    "ax_max = fig.add_axes([0.99, 0.99, 0.01, 0.01])\n",
    "ax_max.axis('off')\n",
    "\n",
    "ax_timeline = fig.add_axes([0.04, 0.1, 0.92, 0.85])\n",
    "ax_timeline.spines[\"top\"].set_visible(False)\n",
    "ax_timeline.spines[\"right\"].set_visible(False)\n",
    "ax_timeline.spines[\"left\"].set_visible(False)\n",
    "ax_timeline.grid(axis='x')\n",
    "\n",
    "\n",
    "ax_timeline.axvline(x=dt.datetime(2021, 9, 19, 14, 13), ymin=0.075, ymax=0.98, color='r', linewidth=3)\n",
    "\n",
    "\n",
    "def make_scatter(df, c, alpha=0.8):\n",
    "    M = 3*np.exp2(1.3*df['Magnitude'])\n",
    "    return ax_timeline.scatter(df['DateTime'], df['Depth(km)'], s=M, c=c, alpha=alpha, edgecolor='black', linewidth=0.5, zorder=2);\n",
    "\n",
    "points_1 = make_scatter(df_erupt_1, c=[(0.890, 0.466, 0.760)], alpha=0.3)\n",
    "points_2 = make_scatter(df_erupt_2, c=[(0.737, 0.741, 0.133)], alpha=0.4)\n",
    "points_3 = make_scatter(df_erupt_3, c=[(0.172, 0.627, 0.172)], alpha=0.5)\n",
    "points_4 = make_scatter(df_erupt_4, c=[(1.000, 0.498, 0.054)], alpha=0.6)\n",
    "points_5 = make_scatter(df_erupt_5, c=[(0.839, 0.152, 0.156)], alpha=0.8)\n",
    "\n",
    "ax_timeline.tick_params(axis='x', labelrotation=0, bottom=True)\n",
    "ax_timeline.set_ylabel('')\n",
    "ax_timeline.yaxis.set_ticks_position('both')\n",
    "ax_timeline.yaxis.set_ticks_position('both')\n",
    "\n",
    "xticks = ax_timeline.get_xticks()\n",
    "new_xticks = [date2num(pd.to_datetime('2021-09-11')),\n",
    "    date2num(pd.to_datetime('2021-09-19 14:13:00'))]\n",
    "new_xticks = np.append(new_xticks, xticks[2:-1])\n",
    "ax_timeline.set_xticks(new_xticks)\n",
    "\n",
    "ax_timeline.invert_yaxis()\n",
    "ax_timeline.spines['bottom'].set_position(('data', 45))\n",
    "ax_timeline.margins(tight=True, x=0)\n",
    "ax_timeline.legend(\n",
    "    [points_1, points_2, points_3, points_4, points_5],\n",
    "    ['0 < M <= 1','1 < M <= 2','2 < M <= 3','3 < M <= 4','M > 4'],\n",
    "    loc='lower left', bbox_to_anchor=(0.01, 0.1, 0.15, 0.1), fancybox=True,\n",
    "    borderpad=1.0, labelspacing=1, mode=\"expand\", title=\"Event Magnitude (M)\",\n",
    "    fontsize=14, title_fontsize=14, framealpha=1)\n",
    "\n",
    "ax_timeline.set_ylim(ax_timeline.get_ylim()[0], -9)\n",
    "\n",
    "plt.annotate('ERUPTION', (0.055, 0.42), rotation=90, xycoords='axes fraction', fontweight='bold', fontsize=20, color='r')\n",
    "plt.annotate('Pre\\nEruptive\\nSwarm', (0.035, 0.88), rotation=0, xycoords='axes fraction', fontweight='bold', fontsize=20, color='b', horizontalalignment='center')\n",
    "plt.annotate('Early Eruptive\\nPhase', (0.12, 0.9), rotation=0, xycoords='axes fraction', fontweight='bold', fontsize=20, color='orange', horizontalalignment='center')\n",
    "plt.annotate('Main Eruptive Phase\\n(sustained gas and lava ejection)', (0.45, 0.9), rotation=0, xycoords='axes fraction', fontweight='bold', fontsize=20, color='green', horizontalalignment='center')\n",
    "plt.annotate('Final Eruptive Phase\\n(reducing gas and lava ejection)', (0.86, 0.9), rotation=0, xycoords='axes fraction', fontweight='bold', fontsize=20, color='r', horizontalalignment='center')\n",
    "\n",
    "ax_timeline.add_patch(Rectangle((date2num(pd.to_datetime('2021-09-11')), -8), date2num(pd.to_datetime('2021-09-19 14:13:00'))-date2num(pd.to_datetime('2021-09-11')), 53, color=(0.121, 0.466, 0.705), zorder=1, alpha=0.1))\n",
    "ax_timeline.add_patch(Rectangle((date2num(pd.to_datetime('2021-09-19 14:13:00')), -8), date2num(pd.to_datetime('2021-10-01'))-date2num(pd.to_datetime('2021-09-19 14:13:00')), 53, color=(1.000, 0.498, 0.055), zorder=1, alpha=0.1))\n",
    "ax_timeline.add_patch(Rectangle((date2num(pd.to_datetime('2021-10-01')), -8), date2num(pd.to_datetime('2021-12-01'))-date2num(pd.to_datetime('2021-10-01')), 53, color=(0.173, 0.627, 0.172), zorder=1, alpha=0.1))\n",
    "ax_timeline.add_patch(Rectangle((date2num(pd.to_datetime('2021-12-01')), -8), date2num(pd.to_datetime('2021-12-31'))-date2num(pd.to_datetime('2021-12-01'))+1, 53, color=(0.839, 0.152, 0.156), zorder=1, alpha=0.1));\n",
    "\n",
    "ax_timeline.set_title(\"Recorded seismicity during the La Palma eruption 11 September - 15 December 2021 (INVOLCAN Dataset)\", dict(fontsize=24), pad=20)\n",
    "ax_timeline.set_ylabel(\"Depth (km)\", dict(fontsize=20), labelpad=20)\n",
    "ax_timeline.set_xlabel(\"Eruption Timeline\", dict(fontsize=20), labelpad=20);"
   ],
   "id": "cell-fig-timeline"
  },
  {
   "cell_type": "markdown",
   "metadata": {},
   "source": [
    "## Cumulative Distrubtion Plots"
   ],
   "id": "63241424"
  },
  {
   "cell_type": "code",
   "execution_count": 7,
   "metadata": {},
   "outputs": [],
   "source": [
    "def cumulative_events_mag_depth(df, hue='Depth', kind='scatter', ax=None, dpi=300, palette=None, kde=True):\n",
    "    matplotlib.rcParams['ytick.labelright'] = False\n",
    "    g = sns.jointplot(x=\"Magnitude\", y=\"Depth(km)\", data=df,\n",
    "                      kind=kind, hue=hue, height=10, space=0.1, marginal_ticks=False, ratio=8, alpha=0.6,\n",
    "                      hue_order=['Shallow (<18km)', 'Interchange (18km>x>28km)', 'Deep (>28km)'],\n",
    "                      ax=ax, palette=palette, ylim=(-2,50), xlim=(0.3,5.6), edgecolor=\".2\", marginal_kws=dict(bins=20))\n",
    "    if kde:\n",
    "        g.plot_joint(sns.kdeplot, color=\"b\", zorder=1, levels=15, ax=ax)\n",
    "    g.fig.axes[0].invert_yaxis();\n",
    "    g.fig.set_dpi(dpi)"
   ],
   "id": "abbf0d50"
  },
  {
   "cell_type": "code",
   "execution_count": 8,
   "metadata": {},
   "outputs": [
    {
     "output_type": "display_data",
     "metadata": {},
     "data": {}
    }
   ],
   "source": [
    "cumulative_events_mag_depth(df_ign, hue=None)\n",
    "plt.suptitle('Cumulative Events 01-01-2017 to 01-01-2022', y=1.01);"
   ],
   "id": "9fc0146a"
  },
  {
   "cell_type": "code",
   "execution_count": 9,
   "metadata": {},
   "outputs": [
    {
     "output_type": "display_data",
     "metadata": {},
     "data": {}
    }
   ],
   "source": [
    "cumulative_events_mag_depth(df_ign_early, hue=None)\n",
    "plt.suptitle(f'Events prior to 2021-09-11 ({len(df_ign_early.index)} events)', y=1.01);"
   ],
   "id": "b1fc42cc"
  },
  {
   "cell_type": "code",
   "execution_count": 10,
   "metadata": {},
   "outputs": [
    {
     "output_type": "display_data",
     "metadata": {},
     "data": {}
    }
   ],
   "source": [
    "cumulative_events_mag_depth(df_ign_pre, hue=None)\n",
    "plt.suptitle(f\"Events Immediately before Eruption 11-19 September 2021 ({len(df_ign_pre.index)} events)\", y=1.01);"
   ],
   "id": "19e275d7"
  },
  {
   "cell_type": "code",
   "execution_count": 11,
   "metadata": {},
   "outputs": [
    {
     "output_type": "display_data",
     "metadata": {},
     "data": {}
    }
   ],
   "source": [
    "cumulative_events_mag_depth(df_ign_phase1, hue=None)\n",
    "plt.suptitle(f\"Events in Phase 1 of Eruption 2021-09-11 to 2021-09-30 ({len(df_ign_phase1.index)} events)\", y=1.01);"
   ],
   "id": "4bcecbd4"
  },
  {
   "cell_type": "code",
   "execution_count": 12,
   "metadata": {},
   "outputs": [
    {
     "output_type": "display_data",
     "metadata": {},
     "data": {}
    }
   ],
   "source": [
    "cumulative_events_mag_depth(df_ign_phase2, hue=None)\n",
    "plt.suptitle(f\"Events in Phase 2 of Eruption 2021-10-01 to 2021-11-31 ({len(df_ign_phase2.index)} events)\", y=1.01);"
   ],
   "id": "012f5878"
  },
  {
   "cell_type": "code",
   "execution_count": 13,
   "metadata": {},
   "outputs": [
    {
     "output_type": "display_data",
     "metadata": {},
     "data": {}
    }
   ],
   "source": [
    "cumulative_events_mag_depth(df_ign_phase3, hue=None)\n",
    "plt.suptitle(f\"Events in Phase 3 of Eruption 2021-12-01 to 2021-12-31 ({len(df_ign_phase3.index)} events)\", y=1.01);"
   ],
   "id": "32e0996c"
  }
 ],
 "nbformat": 4,
 "nbformat_minor": 5,
 "metadata": {}
}
