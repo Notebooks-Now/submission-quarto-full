{
 "cells": [
  {
   "cell_type": "markdown",
   "metadata": {},
   "source": [
    "# Data Screening\n",
    "\n",
    "Steve Purves [![](data:image/png;base64,iVBORw0KGgoAAAANSUhEUgAAABAAAAAQCAYAAAAf8/9hAAAAGXRFWHRTb2Z0d2FyZQBBZG9iZSBJbWFnZVJlYWR5ccllPAAAA2ZpVFh0WE1MOmNvbS5hZG9iZS54bXAAAAAAADw/eHBhY2tldCBiZWdpbj0i77u/IiBpZD0iVzVNME1wQ2VoaUh6cmVTek5UY3prYzlkIj8+IDx4OnhtcG1ldGEgeG1sbnM6eD0iYWRvYmU6bnM6bWV0YS8iIHg6eG1wdGs9IkFkb2JlIFhNUCBDb3JlIDUuMC1jMDYwIDYxLjEzNDc3NywgMjAxMC8wMi8xMi0xNzozMjowMCAgICAgICAgIj4gPHJkZjpSREYgeG1sbnM6cmRmPSJodHRwOi8vd3d3LnczLm9yZy8xOTk5LzAyLzIyLXJkZi1zeW50YXgtbnMjIj4gPHJkZjpEZXNjcmlwdGlvbiByZGY6YWJvdXQ9IiIgeG1sbnM6eG1wTU09Imh0dHA6Ly9ucy5hZG9iZS5jb20veGFwLzEuMC9tbS8iIHhtbG5zOnN0UmVmPSJodHRwOi8vbnMuYWRvYmUuY29tL3hhcC8xLjAvc1R5cGUvUmVzb3VyY2VSZWYjIiB4bWxuczp4bXA9Imh0dHA6Ly9ucy5hZG9iZS5jb20veGFwLzEuMC8iIHhtcE1NOk9yaWdpbmFsRG9jdW1lbnRJRD0ieG1wLmRpZDo1N0NEMjA4MDI1MjA2ODExOTk0QzkzNTEzRjZEQTg1NyIgeG1wTU06RG9jdW1lbnRJRD0ieG1wLmRpZDozM0NDOEJGNEZGNTcxMUUxODdBOEVCODg2RjdCQ0QwOSIgeG1wTU06SW5zdGFuY2VJRD0ieG1wLmlpZDozM0NDOEJGM0ZGNTcxMUUxODdBOEVCODg2RjdCQ0QwOSIgeG1wOkNyZWF0b3JUb29sPSJBZG9iZSBQaG90b3Nob3AgQ1M1IE1hY2ludG9zaCI+IDx4bXBNTTpEZXJpdmVkRnJvbSBzdFJlZjppbnN0YW5jZUlEPSJ4bXAuaWlkOkZDN0YxMTc0MDcyMDY4MTE5NUZFRDc5MUM2MUUwNEREIiBzdFJlZjpkb2N1bWVudElEPSJ4bXAuZGlkOjU3Q0QyMDgwMjUyMDY4MTE5OTRDOTM1MTNGNkRBODU3Ii8+IDwvcmRmOkRlc2NyaXB0aW9uPiA8L3JkZjpSREY+IDwveDp4bXBtZXRhPiA8P3hwYWNrZXQgZW5kPSJyIj8+84NovQAAAR1JREFUeNpiZEADy85ZJgCpeCB2QJM6AMQLo4yOL0AWZETSqACk1gOxAQN+cAGIA4EGPQBxmJA0nwdpjjQ8xqArmczw5tMHXAaALDgP1QMxAGqzAAPxQACqh4ER6uf5MBlkm0X4EGayMfMw/Pr7Bd2gRBZogMFBrv01hisv5jLsv9nLAPIOMnjy8RDDyYctyAbFM2EJbRQw+aAWw/LzVgx7b+cwCHKqMhjJFCBLOzAR6+lXX84xnHjYyqAo5IUizkRCwIENQQckGSDGY4TVgAPEaraQr2a4/24bSuoExcJCfAEJihXkWDj3ZAKy9EJGaEo8T0QSxkjSwORsCAuDQCD+QILmD1A9kECEZgxDaEZhICIzGcIyEyOl2RkgwAAhkmC+eAm0TAAAAABJRU5ErkJggg==)](https://orcid.org/0000-0002-0760-5497)"
   ],
   "id": "735d5628-889e-4300-8f10-34c9c1742027"
  },
  {
   "cell_type": "markdown",
   "metadata": {},
   "source": [
    "Load and review the data, check that dates are loaded properly and filter data down to the events in La Palma only. The dataset itself contains all recent IGN earthquake data for Spanish territory."
   ],
   "id": "96cd123b-e010-4778-9afa-9ca125ef50cc"
  },
  {
   "cell_type": "code",
   "execution_count": 1,
   "metadata": {},
   "outputs": [],
   "source": [
    "import pandas as pd\n",
    "import matplotlib.pyplot as plt"
   ],
   "id": "0e75ded9-f2dc-40ca-884b-d124d0e37ee4"
  },
  {
   "cell_type": "code",
   "execution_count": 2,
   "metadata": {
    "tags": []
   },
   "outputs": [
    {
     "output_type": "display_data",
     "metadata": {},
     "data": {
      "text/html": [
       "\n",
       "</div>"
      ]
     }
    }
   ],
   "source": [
    "df = pd.read_csv('../data/catalogoComunSV_1663233588717.csv', sep=';')\n",
    "df.columns = ['Event', 'Date', 'Time', 'Latitude', 'Longitude', 'Depth(km)', 'Intensity','Magnitude', 'Type Mag', 'Location']\n",
    "df['Time'] = df['Time'].str.strip()\n",
    "df['Date'] = df['Date'].str.strip()\n",
    "df['DateTime'] = (df['Date'] + ' ' + df['Time']).apply(pd.to_datetime, format='%d/%m/%Y %H:%M:%S')\n",
    "df['Timestamp'] = pd.to_numeric(pd.to_datetime(df['DateTime']))\n",
    "df['Date'] = pd.to_datetime(df['Date'], format=\"%d/%m/%Y\")\n",
    "df = df.sort_values(by=['DateTime'], ascending=True)\n",
    "df.head()"
   ],
   "id": "ba38c3c1-51d7-48d9-8056-c23a0bbfcd18"
  },
  {
   "cell_type": "code",
   "execution_count": 3,
   "metadata": {},
   "outputs": [
    {
     "output_type": "display_data",
     "metadata": {},
     "data": {
      "text/html": [
       "\n",
       "</div>"
      ]
     }
    }
   ],
   "source": [
    "df.describe()"
   ],
   "id": "d81abbcf-d7f2-43e8-ae0c-5f6ce44e6046"
  },
  {
   "cell_type": "code",
   "execution_count": 4,
   "metadata": {},
   "outputs": [
    {
     "output_type": "display_data",
     "metadata": {},
     "data": {}
    }
   ],
   "source": [
    "df.plot.scatter(x=\"Longitude\", y=\"Latitude\", figsize=(12,12), grid=\"on\");"
   ],
   "id": "8f6c52f4-b28d-4c22-88c7-e1b17298cae7"
  },
  {
   "cell_type": "markdown",
   "metadata": {},
   "source": [
    "### Filter down to La Palma events only\n",
    "\n",
    "Also some rows seem to be missing depth measurements, (see differences in the **count** for columns above) - take only rows with valid depths"
   ],
   "id": "af76febd-11cd-4927-8476-5d8258ede326"
  },
  {
   "cell_type": "code",
   "execution_count": 5,
   "metadata": {},
   "outputs": [
    {
     "output_type": "display_data",
     "metadata": {},
     "data": {
      "text/html": [
       "\n",
       "</div>"
      ]
     }
    }
   ],
   "source": [
    "df = df[(df['Latitude'] < 28.7) & (df['Latitude'] > 28.3) & (df['Longitude'] < -17.7) & (df['Longitude'] > -18)]\n",
    "df = df[df['Depth(km)'].notna()]\n",
    "df.describe()"
   ],
   "id": "c34e47c1-c9cb-4207-978c-292333863e9b"
  },
  {
   "cell_type": "code",
   "execution_count": 6,
   "metadata": {
    "tags": []
   },
   "outputs": [
    {
     "output_type": "display_data",
     "metadata": {},
     "data": {}
    }
   ],
   "source": [
    "plt.figure(figsize=(20,6))\n",
    "plt.subplot(1,3,1)\n",
    "df[\"Latitude\"].plot.hist(bins=20, density=True)\n",
    "df[\"Latitude\"].plot.kde()\n",
    "plt.subplot(1,3,2)\n",
    "df[\"Longitude\"].plot.hist(bins=20, density=True)\n",
    "df[\"Longitude\"].plot.kde()\n",
    "plt.subplot(1,3,3)\n",
    "df[\"Depth(km)\"].plot.hist(bins=50, density=True)\n",
    "_=df[\"Depth(km)\"].plot.kde()"
   ],
   "id": "306ba432-daa7-4126-9b5a-689e1ad41e3a"
  },
  {
   "cell_type": "markdown",
   "metadata": {},
   "source": [
    "## Spatial Plot\n",
    "\n",
    "Scatter plot the spatial locations of events"
   ],
   "id": "1bf2e599-12d6-40e9-bd99-db68ae6e72f5"
  },
  {
   "cell_type": "code",
   "execution_count": 7,
   "metadata": {},
   "outputs": [
    {
     "output_type": "stream",
     "name": "stderr",
     "text": [
      "/opt/anaconda3/envs/py3/lib/python3.9/site-packages/matplotlib/collections.py:967: RuntimeWarning: invalid value encountered in sqrt\n",
      "  scale = np.sqrt(self._sizes) * dpi / 72.0 * self._factor"
     ]
    },
    {
     "output_type": "display_data",
     "metadata": {},
     "data": {}
    }
   ],
   "source": [
    "from matplotlib import colormaps\n",
    "cmap = colormaps['viridis_r']\n",
    "ax = df.plot.scatter(x=\"Longitude\", y=\"Latitude\", s=40-df[\"Depth(km)\"], c=df[\"Magnitude\"], figsize=(12,10), grid=\"on\", cmap=cmap)"
   ],
   "id": "ed0bda66-c063-47bd-a12e-c688543845b7"
  },
  {
   "cell_type": "markdown",
   "metadata": {},
   "source": [
    "### Timeline Plot\n",
    "\n",
    "Scatter plot the event time series and look for any quantization issues. Have times & dates been loaded correctly?"
   ],
   "id": "c55cd6b8-7e01-4c2d-aa71-1649ca8aee01"
  },
  {
   "cell_type": "code",
   "execution_count": 8,
   "metadata": {},
   "outputs": [
    {
     "output_type": "display_data",
     "metadata": {},
     "data": {}
    }
   ],
   "source": [
    "ax = df.plot.scatter(x='DateTime', y='Depth(km)', figsize=(20,8))\n",
    "ax.set_ylim(50,0);"
   ],
   "id": "58a022c7-f34c-499d-a749-aa01f0e1b5db"
  },
  {
   "cell_type": "code",
   "execution_count": 9,
   "metadata": {},
   "outputs": [],
   "source": [
    "df['Swarm'] = 0\n",
    "df.loc[(df['Date'] >= '2017-10-01') & (df['Date'] <= '2017-10-31'), 'Swarm'] = 1\n",
    "df.loc[(df['Date'] >= '2019-02-01') & (df['Date'] <= '2019-02-28'), 'Swarm'] = 2\n",
    "df.loc[(df['Date'] >= '2020-07-21') & (df['Date'] <= '2020-08-05'), 'Swarm'] = 3\n",
    "df.loc[(df['Date'] >= '2020-10-04') & (df['Date'] <= '2020-10-10'), 'Swarm'] = 4\n",
    "df.loc[(df['Date'] >= '2020-10-11') & (df['Date'] <= '2020-10-22'), 'Swarm'] = 5\n",
    "df.loc[(df['Date'] >= '2020-11-15') & (df['Date'] <= '2020-11-29'), 'Swarm'] = 6\n",
    "df.loc[(df['Date'] >= '2020-12-10') & (df['Date'] <= '2020-12-29'), 'Swarm'] = 7\n",
    "df.loc[(df['Date'] >= '2020-12-10') & (df['Date'] <= '2020-12-31'), 'Swarm'] = 8\n",
    "df.loc[(df['Date'] >= '2021-01-15') & (df['Date'] <= '2021-02-07'), 'Swarm'] = 9\n",
    "df.loc[(df['Date'] >= '2021-06-01') & (df['Date'] <= '2021-06-30'), 'Swarm'] = 10\n",
    "df.loc[(df['Date'] >= '2021-07-01'), 'Swarm'] = None\n",
    "\n",
    "\n",
    "df['Phase'] = 0;\n",
    "df.loc[(df['Date'] >= '2021-09-11') & (df['Date'] <= '2021-09-30'), 'Phase'] = 1\n",
    "df.loc[(df['Date'] >= '2021-10-01') & (df['Date'] <= '2021-11-30'), 'Phase'] = 2\n",
    "df.loc[(df['Date'] >= '2021-12-01') & (df['Date'] <= '2021-12-31'), 'Phase'] = 3\n",
    "df.loc[(df['Date'] >= '2021-12-31'), 'Phase'] = 4"
   ],
   "id": "f0a0d350-ed14-4128-9efe-cfcf2d05a66b"
  },
  {
   "cell_type": "code",
   "execution_count": 10,
   "metadata": {},
   "outputs": [],
   "source": [
    "df.to_csv(\"../data/lapalma_ign.csv\", index=False)"
   ],
   "id": "abd100da-cf39-47e4-8287-de4e9f5e3f6d"
  }
 ],
 "nbformat": 4,
 "nbformat_minor": 5,
 "metadata": {}
}
